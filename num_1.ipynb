{
 "cells": [
  {
   "cell_type": "code",
   "execution_count": 1,
   "id": "6fd21306",
   "metadata": {},
   "outputs": [],
   "source": [
    "from collections import defaultdict, Counter\n",
    "import pprint"
   ]
  },
  {
   "cell_type": "code",
   "execution_count": 2,
   "id": "a34c3e7f",
   "metadata": {},
   "outputs": [],
   "source": [
    "sentences = [\n",
    "    \"The_DET cat_NOUN sleeps_VERB\",\n",
    "    \"A_DET dog_NOUN barks_VERB\",\n",
    "    \"The_DET dog_NOUN sleeps_VERB\",\n",
    "    \"My_DET dog_NOUN runs_VERB fast_ADV\",\n",
    "    \"A_DET cat_NOUN meows_VERB loudly_ADV\",\n",
    "    \"Your_DET cat_NOUN runs_VERB\",\n",
    "    \"The_DET bird_NOUN sings_VERB sweetly_ADV\",\n",
    "    \"A_DET bird_NOUN chirps_VERB\"\n",
    "]"
   ]
  },
  {
   "cell_type": "code",
   "execution_count": 3,
   "id": "552e9bb4",
   "metadata": {},
   "outputs": [],
   "source": [
    "transition_counts = defaultdict(Counter)\n",
    "emission_counts = defaultdict(Counter)\n",
    "tag_counts = Counter()"
   ]
  },
  {
   "cell_type": "code",
   "execution_count": 4,
   "id": "406e47f2",
   "metadata": {},
   "outputs": [],
   "source": [
    "for sentence in sentences:\n",
    "    tokens = sentence.split()\n",
    "    tags = []\n",
    "    prev_tag = \"<START>\"\n",
    "\n",
    "    for token in tokens:\n",
    "        word, tag = token.rsplit(\"_\", 1)\n",
    "        emission_counts[tag][word] += 1\n",
    "        tag_counts[tag] += 1\n",
    "        transition_counts[prev_tag][tag] += 1\n",
    "        prev_tag = tag\n",
    "\n",
    "    transition_counts[prev_tag][\"<END>\"] += 1"
   ]
  },
  {
   "cell_type": "code",
   "execution_count": 5,
   "id": "4af90d77",
   "metadata": {},
   "outputs": [],
   "source": [
    "def normalize(counter):\n",
    "    total = sum(counter.values())\n",
    "    return {k: v / total for k, v in counter.items()}\n",
    "\n",
    "transition_probs = {tag: normalize(next_tags) for tag, next_tags in transition_counts.items()}\n",
    "emission_probs = {tag: normalize(words) for tag, words in emission_counts.items()}"
   ]
  },
  {
   "cell_type": "code",
   "execution_count": 6,
   "id": "6d6fd267",
   "metadata": {},
   "outputs": [
    {
     "name": "stdout",
     "output_type": "stream",
     "text": [
      "Transition Probabilities:\n",
      "{'<START>': {'DET': 1.0},\n",
      " 'ADV': {'<END>': 1.0},\n",
      " 'DET': {'NOUN': 1.0},\n",
      " 'NOUN': {'VERB': 1.0},\n",
      " 'VERB': {'<END>': 0.625, 'ADV': 0.375}}\n",
      "\n",
      "Emission Probabilities:\n",
      "{'ADV': {'fast': 0.3333333333333333,\n",
      "         'loudly': 0.3333333333333333,\n",
      "         'sweetly': 0.3333333333333333},\n",
      " 'DET': {'A': 0.375, 'My': 0.125, 'The': 0.375, 'Your': 0.125},\n",
      " 'NOUN': {'bird': 0.25, 'cat': 0.375, 'dog': 0.375},\n",
      " 'VERB': {'barks': 0.125,\n",
      "          'chirps': 0.125,\n",
      "          'meows': 0.125,\n",
      "          'runs': 0.25,\n",
      "          'sings': 0.125,\n",
      "          'sleeps': 0.25}}\n"
     ]
    }
   ],
   "source": [
    "print(\"Transition Probabilities:\")\n",
    "pprint.pprint(transition_probs)\n",
    "\n",
    "print(\"\\nEmission Probabilities:\")\n",
    "pprint.pprint(emission_probs)"
   ]
  }
 ],
 "metadata": {
  "kernelspec": {
   "display_name": "Python 3",
   "language": "python",
   "name": "python3"
  },
  "language_info": {
   "codemirror_mode": {
    "name": "ipython",
    "version": 3
   },
   "file_extension": ".py",
   "mimetype": "text/x-python",
   "name": "python",
   "nbconvert_exporter": "python",
   "pygments_lexer": "ipython3",
   "version": "3.10.0"
  }
 },
 "nbformat": 4,
 "nbformat_minor": 5
}
