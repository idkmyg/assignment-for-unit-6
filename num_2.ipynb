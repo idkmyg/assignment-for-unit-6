{
 "cells": [
  {
   "cell_type": "code",
   "execution_count": 3,
   "id": "df755fc8",
   "metadata": {},
   "outputs": [],
   "source": [
    "from collections import defaultdict, Counter\n",
    "import math\n",
    "import pprint"
   ]
  },
  {
   "cell_type": "code",
   "execution_count": 4,
   "id": "f20e2589",
   "metadata": {},
   "outputs": [],
   "source": [
    "sentences = [\n",
    "    \"The_DET cat_NOUN sleeps_VERB\",\n",
    "    \"A_DET dog_NOUN barks_VERB\",\n",
    "    \"The_DET dog_NOUN sleeps_VERB\",\n",
    "    \"My_DET dog_NOUN runs_VERB fast_ADV\",\n",
    "    \"A_DET cat_NOUN meows_VERB loudly_ADV\",\n",
    "    \"Your_DET cat_NOUN runs_VERB\",\n",
    "    \"The_DET bird_NOUN sings_VERB sweetly_ADV\",\n",
    "    \"A_DET bird_NOUN chirps_VERB\"\n",
    "]"
   ]
  },
  {
   "cell_type": "code",
   "execution_count": 5,
   "id": "050fd871",
   "metadata": {},
   "outputs": [],
   "source": [
    "transition_counts = defaultdict(Counter)\n",
    "emission_counts = defaultdict(Counter)\n",
    "tag_counts = Counter()"
   ]
  },
  {
   "cell_type": "code",
   "execution_count": 6,
   "id": "aadc6ae2",
   "metadata": {},
   "outputs": [],
   "source": [
    "for sentence in sentences:\n",
    "    tokens = sentence.split()\n",
    "    prev_tag = \"<START>\"\n",
    "    for token in tokens:\n",
    "        word, tag = token.rsplit(\"_\", 1)\n",
    "        emission_counts[tag][word] += 1\n",
    "        tag_counts[tag] += 1\n",
    "        transition_counts[prev_tag][tag] += 1\n",
    "        prev_tag = tag\n",
    "    transition_counts[prev_tag][\"<END>\"] += 1"
   ]
  },
  {
   "cell_type": "code",
   "execution_count": 7,
   "id": "e2b794a3",
   "metadata": {},
   "outputs": [],
   "source": [
    "def normalize(counter):\n",
    "    total = sum(counter.values())\n",
    "    return {k: v / total for k, v in counter.items()}"
   ]
  },
  {
   "cell_type": "code",
   "execution_count": 8,
   "id": "1e000e53",
   "metadata": {},
   "outputs": [],
   "source": [
    "transition_probs = {tag: normalize(next_tags) for tag, next_tags in transition_counts.items()}\n",
    "emission_probs = {tag: normalize(words) for tag, words in emission_counts.items()}\n",
    "states = list(emission_probs.keys())"
   ]
  },
  {
   "cell_type": "code",
   "execution_count": 9,
   "id": "b88de477",
   "metadata": {},
   "outputs": [],
   "source": [
    "def viterbi(words, states, emission_probs, transition_probs):\n",
    "    V = [{}]\n",
    "    path = {}\n",
    "\n",
    "    for state in states:\n",
    "        emit_p = emission_probs[state].get(words[0], 1e-6)\n",
    "        trans_p = transition_probs[\"<START>\"].get(state, 1e-6)\n",
    "        V[0][state] = math.log(trans_p) + math.log(emit_p)\n",
    "        path[state] = [state]\n",
    "\n",
    "    for t in range(1, len(words)):\n",
    "        V.append({})\n",
    "        new_path = {}\n",
    "\n",
    "        for curr_state in states:\n",
    "            emit_p = emission_probs[curr_state].get(words[t], 1e-6)\n",
    "            (prob, prev_state) = max(\n",
    "                (V[t-1][y0] + math.log(transition_probs[y0].get(curr_state, 1e-6)) + math.log(emit_p), y0)\n",
    "                for y0 in states\n",
    "            )\n",
    "            V[t][curr_state] = prob\n",
    "            new_path[curr_state] = path[prev_state] + [curr_state]\n",
    "        path = new_path\n",
    "\n",
    "    n = len(words) - 1\n",
    "    (prob, final_state) = max(\n",
    "        (V[n][y] + math.log(transition_probs[y].get(\"<END>\", 1e-6)), y) for y in states\n",
    "    )\n",
    "    return path[final_state]"
   ]
  },
  {
   "cell_type": "code",
   "execution_count": 10,
   "id": "a4b50e76",
   "metadata": {},
   "outputs": [],
   "source": [
    "test_sentences = [\n",
    "    \"The cat meows\",\n",
    "    \"My dog barks loudly\"\n",
    "]"
   ]
  },
  {
   "cell_type": "code",
   "execution_count": 11,
   "id": "d589b208",
   "metadata": {},
   "outputs": [
    {
     "name": "stdout",
     "output_type": "stream",
     "text": [
      "Sentence: The cat meows\n",
      "POS Tags: {tags}\n",
      "\n",
      "Sentence: My dog barks loudly\n",
      "POS Tags: {tags}\n",
      "\n"
     ]
    }
   ],
   "source": [
    "for sentence in test_sentences:\n",
    "    words = sentence.split()\n",
    "    tags = viterbi(words, states, emission_probs, transition_probs)\n",
    "    print(f\"Sentence: {sentence}\")\n",
    "    print(\"POS Tags: {tags}\")\n",
    "    print()"
   ]
  }
 ],
 "metadata": {
  "kernelspec": {
   "display_name": "Python 3",
   "language": "python",
   "name": "python3"
  },
  "language_info": {
   "codemirror_mode": {
    "name": "ipython",
    "version": 3
   },
   "file_extension": ".py",
   "mimetype": "text/x-python",
   "name": "python",
   "nbconvert_exporter": "python",
   "pygments_lexer": "ipython3",
   "version": "3.10.0"
  }
 },
 "nbformat": 4,
 "nbformat_minor": 5
}
